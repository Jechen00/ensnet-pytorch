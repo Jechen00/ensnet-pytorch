{
  "cells": [
    {
      "cell_type": "markdown",
      "metadata": {
        "id": "vFccMyRqQLor"
      },
      "source": [
        "# Packages and Dependencies"
      ]
    },
    {
      "cell_type": "code",
      "execution_count": 1,
      "metadata": {
        "ExecuteTime": {
          "end_time": "2025-04-20T05:50:23.484245Z",
          "start_time": "2025-04-20T05:50:23.469977Z"
        },
        "colab": {
          "base_uri": "https://localhost:8080/"
        },
        "id": "_WAc3llTeIjm",
        "outputId": "2a615f45-06c3-4fcd-abf8-26787dc5eccb"
      },
      "outputs": [
        {
          "output_type": "stream",
          "name": "stdout",
          "text": [
            "\u001b[1m[ALERT]\u001b[0m torchinfo not found. Installing with pip...\n",
            "Collecting torchinfo\n",
            "  Downloading torchinfo-1.8.0-py3-none-any.whl.metadata (21 kB)\n",
            "Downloading torchinfo-1.8.0-py3-none-any.whl (23 kB)\n",
            "Installing collected packages: torchinfo\n",
            "Successfully installed torchinfo-1.8.0\n",
            "\u001b[1m[ALERT]\u001b[0m Packages not found. Cloning from GitHub...\n",
            "Cloning into 'ensnet-pytorch'...\n",
            "remote: Enumerating objects: 75, done.\u001b[K\n",
            "remote: Counting objects: 100% (75/75), done.\u001b[K\n",
            "remote: Compressing objects: 100% (53/53), done.\u001b[K\n",
            "remote: Total 75 (delta 33), reused 57 (delta 19), pack-reused 0 (from 0)\u001b[K\n",
            "Receiving objects: 100% (75/75), 906.62 KiB | 2.63 MiB/s, done.\n",
            "Resolving deltas: 100% (33/33), done.\n",
            "\u001b[1mDevice:\u001b[0m cuda\n"
          ]
        }
      ],
      "source": [
        "import torch\n",
        "from torch import nn\n",
        "\n",
        "import sys\n",
        "import os\n",
        "import numpy as np\n",
        "import matplotlib.pyplot as plt\n",
        "import pickle\n",
        "import random\n",
        "\n",
        "# If can't import, install torchinfo\n",
        "try:\n",
        "    from torchinfo import summary\n",
        "except ImportError:\n",
        "    print('\\033[1m[ALERT]\\033[0m torchinfo not found. Installing with pip...')\n",
        "    !pip install torchinfo\n",
        "    from torchinfo import summary\n",
        "\n",
        "# If can't import, clone EnsNet repo and add it to Python path\n",
        "try:\n",
        "\n",
        "    from src import data_setup, utils, model, engine\n",
        "except ImportError:\n",
        "    print('\\033[1m[ALERT]\\033[0m Packages not found. Cloning from GitHub...')\n",
        "    !git clone https://github.com/Jechen00/ensnet-pytorch.git\n",
        "    sys.path.append('./ensnet-pytorch')\n",
        "\n",
        "    from src import data_setup, utils, model, engine\n",
        "\n",
        "# Set random seeds\n",
        "utils.set_seed(0)\n",
        "print(f'\\033[1mDevice:\\033[0m {utils.DEVICE}')"
      ]
    },
    {
      "cell_type": "markdown",
      "metadata": {
        "id": "4-Dn3LOKjCYN"
      },
      "source": [
        "# Get MNIST Dataloaders"
      ]
    },
    {
      "cell_type": "code",
      "execution_count": 3,
      "metadata": {
        "ExecuteTime": {
          "end_time": "2025-04-20T05:50:24.885365Z",
          "start_time": "2025-04-20T05:50:24.828421Z"
        },
        "id": "s0Uegt9te-U8",
        "colab": {
          "base_uri": "https://localhost:8080/"
        },
        "outputId": "0bbfb2c3-1eea-44d3-cbf9-3f66a3dec563"
      },
      "outputs": [
        {
          "output_type": "stream",
          "name": "stderr",
          "text": [
            "100%|██████████| 9.91M/9.91M [00:00<00:00, 17.9MB/s]\n",
            "100%|██████████| 28.9k/28.9k [00:00<00:00, 482kB/s]\n",
            "100%|██████████| 1.65M/1.65M [00:00<00:00, 4.49MB/s]\n",
            "100%|██████████| 4.54k/4.54k [00:00<00:00, 3.44MB/s]\n"
          ]
        }
      ],
      "source": [
        "BATCH_SIZE = 100\n",
        "NUM_WORKERS = 2\n",
        "\n",
        "# This will download the MNIST dataset to ./mnist\n",
        "train_dl, test_dl = data_setup.get_dataloaders(root = './mnist_data',\n",
        "                                               batch_size = BATCH_SIZE,\n",
        "                                               num_workers = NUM_WORKERS)"
      ]
    },
    {
      "cell_type": "markdown",
      "metadata": {
        "id": "aDRuK2ubfwKG"
      },
      "source": [
        "# Model Summary"
      ]
    },
    {
      "cell_type": "code",
      "execution_count": 4,
      "metadata": {
        "ExecuteTime": {
          "end_time": "2025-04-20T05:49:55.611610Z",
          "start_time": "2025-04-20T05:49:51.938705Z"
        },
        "colab": {
          "base_uri": "https://localhost:8080/"
        },
        "id": "42qLKLt7fvlu",
        "outputId": "abfb3f83-968d-4484-cbc3-ebfc92cc0ba8"
      },
      "outputs": [
        {
          "output_type": "execute_result",
          "data": {
            "text/plain": [
              "===================================================================================================================\n",
              "Layer (type (var_name))                                 Input Shape          Output Shape         Param #\n",
              "===================================================================================================================\n",
              "EnsNet (EnsNet)                                         [100, 1, 28, 28]     [100, 10]            --\n",
              "├─EnsNetBaseCNN (base_cnn)                              [100, 1, 28, 28]     [100, 10]            --\n",
              "│    └─Sequential (cnn_body)                            [100, 1, 28, 28]     [100, 2000, 6, 6]    --\n",
              "│    │    └─Sequential (cnn_block_1)                    [100, 1, 28, 28]     [100, 256, 14, 14]   370,560\n",
              "│    │    └─Sequential (cnn_block_2)                    [100, 256, 14, 14]   [100, 2000, 6, 6]    24,340,848\n",
              "│    └─Sequential (classifier)                          [100, 2000, 6, 6]    [100, 10]            --\n",
              "│    │    └─Flatten (0)                                 [100, 2000, 6, 6]    [100, 72000]         --\n",
              "│    │    └─Linear (1)                                  [100, 72000]         [100, 512]           36,864,512\n",
              "│    │    └─ReLU (2)                                    [100, 512]           [100, 512]           --\n",
              "│    │    └─BatchNorm1d (3)                             [100, 512]           [100, 512]           1,024\n",
              "│    │    └─Dropout (4)                                 [100, 512]           [100, 512]           --\n",
              "│    │    └─DropConnectLinear (5)                       [100, 512]           [100, 512]           262,656\n",
              "│    │    └─ReLU (6)                                    [100, 512]           [100, 512]           --\n",
              "│    │    └─Linear (7)                                  [100, 512]           [100, 10]            5,130\n",
              "├─ModuleList (subnets)                                  --                   --                   --\n",
              "│    └─EnsNetFCSN (0)                                   [100, 200, 6, 6]     [100, 10]            --\n",
              "│    │    └─Sequential (subnet)                         [100, 200, 6, 6]     [100, 10]            3,955,722\n",
              "│    └─EnsNetFCSN (1)                                   [100, 200, 6, 6]     [100, 10]            --\n",
              "│    │    └─Sequential (subnet)                         [100, 200, 6, 6]     [100, 10]            3,955,722\n",
              "│    └─EnsNetFCSN (2)                                   [100, 200, 6, 6]     [100, 10]            --\n",
              "│    │    └─Sequential (subnet)                         [100, 200, 6, 6]     [100, 10]            3,955,722\n",
              "│    └─EnsNetFCSN (3)                                   [100, 200, 6, 6]     [100, 10]            --\n",
              "│    │    └─Sequential (subnet)                         [100, 200, 6, 6]     [100, 10]            3,955,722\n",
              "│    └─EnsNetFCSN (4)                                   [100, 200, 6, 6]     [100, 10]            --\n",
              "│    │    └─Sequential (subnet)                         [100, 200, 6, 6]     [100, 10]            3,955,722\n",
              "│    └─EnsNetFCSN (5)                                   [100, 200, 6, 6]     [100, 10]            --\n",
              "│    │    └─Sequential (subnet)                         [100, 200, 6, 6]     [100, 10]            3,955,722\n",
              "│    └─EnsNetFCSN (6)                                   [100, 200, 6, 6]     [100, 10]            --\n",
              "│    │    └─Sequential (subnet)                         [100, 200, 6, 6]     [100, 10]            3,955,722\n",
              "│    └─EnsNetFCSN (7)                                   [100, 200, 6, 6]     [100, 10]            --\n",
              "│    │    └─Sequential (subnet)                         [100, 200, 6, 6]     [100, 10]            3,955,722\n",
              "│    └─EnsNetFCSN (8)                                   [100, 200, 6, 6]     [100, 10]            --\n",
              "│    │    └─Sequential (subnet)                         [100, 200, 6, 6]     [100, 10]            3,955,722\n",
              "│    └─EnsNetFCSN (9)                                   [100, 200, 6, 6]     [100, 10]            --\n",
              "│    │    └─Sequential (subnet)                         [100, 200, 6, 6]     [100, 10]            3,955,722\n",
              "===================================================================================================================\n",
              "Total params: 101,401,950\n",
              "Trainable params: 101,401,950\n",
              "Non-trainable params: 0\n",
              "Total mult-adds (Units.GIGABYTES): 417.74\n",
              "===================================================================================================================\n",
              "Input size (MB): 0.31\n",
              "Forward/backward pass size (MB): 1518.07\n",
              "Params size (MB): 405.61\n",
              "Estimated Total Size (MB): 1923.99\n",
              "==================================================================================================================="
            ]
          },
          "metadata": {},
          "execution_count": 4
        }
      ],
      "source": [
        "num_classes = len(train_dl.dataset.classes)\n",
        "ensnet = model.EnsNet(base_cnn = model.EnsNetBaseCNN,\n",
        "                      subnet = model.EnsNetFCSN,\n",
        "                      num_subnets = 10,\n",
        "                      num_classes = num_classes)\n",
        "\n",
        "X_dummy = torch.rand(100, 1, 28, 28) # Mimic MNIST batch size\n",
        "\n",
        "summary(model = ensnet,\n",
        "        input_size = X_dummy.shape,\n",
        "        col_names = ['input_size', 'output_size', 'num_params'],\n",
        "        col_width = 20,\n",
        "        row_settings = ['var_names'])"
      ]
    },
    {
      "cell_type": "markdown",
      "metadata": {
        "id": "EjXvJe3AYm_j"
      },
      "source": [
        "# Model Training"
      ]
    },
    {
      "cell_type": "code",
      "execution_count": 5,
      "metadata": {
        "ExecuteTime": {
          "end_time": "2025-04-20T05:56:44.326016Z",
          "start_time": "2025-04-20T05:56:42.161000Z"
        },
        "colab": {
          "base_uri": "https://localhost:8080/"
        },
        "collapsed": true,
        "id": "RO2lPXQ8tN_9",
        "outputId": "c2d861b3-4482-44d3-fb52-11d1bbb4d104"
      },
      "outputs": [
        {
          "output_type": "stream",
          "name": "stdout",
          "text": [
            "\u001b[1m[NOTE]\u001b[0m The model and/or fit results will be saved to ./saved_models \n",
            "\n",
            "\u001b[1m*************************\n",
            "EPOCH 1\n",
            "*************************\u001b[0m\n",
            "\u001b[1m[UPDATE]\u001b[0m Training base CNN; parameters of subnetworks are frozen.\n",
            "\u001b[1m[UPDATE]\u001b[0m Training subnetworks; parameters of base CNN are frozen.\n",
            "\u001b[1m[CNN]\u001b[0m         | train_loss = 0.2387     | train_acc = 0.9234     | test_loss = 2.4244     | test_acc = 0.9484    \n",
            "\u001b[1m[SUBNETS]\u001b[0m     | avg_train_loss = 0.1176 | avg_train_acc = 0.9656 | avg_test_loss = 0.0288 | avg_test_acc = 0.9911\n",
            "\u001b[1m[FULL ENSNET]\u001b[0m | ----------------------- | train_acc = 0.9836     | ---------------------- | test_acc = 0.9917    \n",
            "\u001b[1m[UPDATE]\u001b[0m Adequate improvement in EnsNet test accuracy. Model saved.\n",
            "\n",
            "\u001b[1m*************************\n",
            "EPOCH 2\n",
            "*************************\u001b[0m\n",
            "\u001b[1m[UPDATE]\u001b[0m Training base CNN; parameters of subnetworks are frozen.\n",
            "\u001b[1m[UPDATE]\u001b[0m Training subnetworks; parameters of base CNN are frozen.\n",
            "\u001b[1m[CNN]\u001b[0m         | train_loss = 0.0945     | train_acc = 0.9709     | test_loss = 0.0287     | test_acc = 0.9915    \n",
            "\u001b[1m[SUBNETS]\u001b[0m     | avg_train_loss = 0.0667 | avg_train_acc = 0.9799 | avg_test_loss = 0.0203 | avg_test_acc = 0.9935\n",
            "\u001b[1m[FULL ENSNET]\u001b[0m | ----------------------- | train_acc = 0.9886     | ---------------------- | test_acc = 0.9939    \n",
            "\u001b[1m[UPDATE]\u001b[0m Adequate improvement in EnsNet test accuracy. Model saved.\n",
            "\n",
            "\u001b[1m*************************\n",
            "EPOCH 3\n",
            "*************************\u001b[0m\n",
            "\u001b[1m[UPDATE]\u001b[0m Training base CNN; parameters of subnetworks are frozen.\n",
            "\u001b[1m[UPDATE]\u001b[0m Training subnetworks; parameters of base CNN are frozen.\n",
            "\u001b[1m[CNN]\u001b[0m         | train_loss = 0.0739     | train_acc = 0.9774     | test_loss = 0.0914     | test_acc = 0.9729    \n",
            "\u001b[1m[SUBNETS]\u001b[0m     | avg_train_loss = 0.0695 | avg_train_acc = 0.9791 | avg_test_loss = 0.0219 | avg_test_acc = 0.9942\n",
            "\u001b[1m[FULL ENSNET]\u001b[0m | ----------------------- | train_acc = 0.9897     | ---------------------- | test_acc = 0.9949    \n",
            "\u001b[1m*************************\n",
            "EPOCH 4\n",
            "*************************\u001b[0m\n",
            "\u001b[1m[UPDATE]\u001b[0m Training base CNN; parameters of subnetworks are frozen.\n",
            "\u001b[1m[UPDATE]\u001b[0m Training subnetworks; parameters of base CNN are frozen.\n",
            "\u001b[1m[CNN]\u001b[0m         | train_loss = 0.0658     | train_acc = 0.9802     | test_loss = 0.0193     | test_acc = 0.9942    \n",
            "\u001b[1m[SUBNETS]\u001b[0m     | avg_train_loss = 0.0492 | avg_train_acc = 0.9855 | avg_test_loss = 0.0200 | avg_test_acc = 0.9943\n",
            "\u001b[1m[FULL ENSNET]\u001b[0m | ----------------------- | train_acc = 0.9920     | ---------------------- | test_acc = 0.9948    \n",
            "\u001b[1m*************************\n",
            "EPOCH 5\n",
            "*************************\u001b[0m\n",
            "\u001b[1m[UPDATE]\u001b[0m Training base CNN; parameters of subnetworks are frozen.\n",
            "\u001b[1m[UPDATE]\u001b[0m Training subnetworks; parameters of base CNN are frozen.\n",
            "\u001b[1m[CNN]\u001b[0m         | train_loss = 0.0619     | train_acc = 0.9814     | test_loss = 0.0191     | test_acc = 0.9938    \n",
            "\u001b[1m[SUBNETS]\u001b[0m     | avg_train_loss = 0.0462 | avg_train_acc = 0.9864 | avg_test_loss = 0.0238 | avg_test_acc = 0.9955\n",
            "\u001b[1m[FULL ENSNET]\u001b[0m | ----------------------- | train_acc = 0.9923     | ---------------------- | test_acc = 0.9963    \n",
            "\u001b[1m[UPDATE]\u001b[0m Adequate improvement in EnsNet test accuracy. Model saved.\n",
            "\n",
            "\u001b[1m*************************\n",
            "EPOCH 6\n",
            "*************************\u001b[0m\n",
            "\u001b[1m[UPDATE]\u001b[0m Training base CNN; parameters of subnetworks are frozen.\n",
            "\u001b[1m[UPDATE]\u001b[0m Training subnetworks; parameters of base CNN are frozen.\n",
            "\u001b[1m[CNN]\u001b[0m         | train_loss = 0.0596     | train_acc = 0.9824     | test_loss = 0.0233     | test_acc = 0.9937    \n",
            "\u001b[1m[SUBNETS]\u001b[0m     | avg_train_loss = 0.0446 | avg_train_acc = 0.9868 | avg_test_loss = 0.0190 | avg_test_acc = 0.9952\n",
            "\u001b[1m[FULL ENSNET]\u001b[0m | ----------------------- | train_acc = 0.9926     | ---------------------- | test_acc = 0.9960    \n",
            "\u001b[1m*************************\n",
            "EPOCH 7\n",
            "*************************\u001b[0m\n",
            "\u001b[1m[UPDATE]\u001b[0m Training base CNN; parameters of subnetworks are frozen.\n",
            "\u001b[1m[UPDATE]\u001b[0m Training subnetworks; parameters of base CNN are frozen.\n",
            "\u001b[1m[CNN]\u001b[0m         | train_loss = 0.0550     | train_acc = 0.9842     | test_loss = 0.0150     | test_acc = 0.9953    \n",
            "\u001b[1m[SUBNETS]\u001b[0m     | avg_train_loss = 0.0440 | avg_train_acc = 0.9873 | avg_test_loss = 0.0160 | avg_test_acc = 0.9956\n",
            "\u001b[1m[FULL ENSNET]\u001b[0m | ----------------------- | train_acc = 0.9931     | ---------------------- | test_acc = 0.9959    \n",
            "\u001b[1m*************************\n",
            "EPOCH 8\n",
            "*************************\u001b[0m\n",
            "\u001b[1m[UPDATE]\u001b[0m Training base CNN; parameters of subnetworks are frozen.\n",
            "\u001b[1m[UPDATE]\u001b[0m Training subnetworks; parameters of base CNN are frozen.\n",
            "\u001b[1m[CNN]\u001b[0m         | train_loss = 0.0516     | train_acc = 0.9848     | test_loss = 0.0235     | test_acc = 0.9927    \n",
            "\u001b[1m[SUBNETS]\u001b[0m     | avg_train_loss = 0.0397 | avg_train_acc = 0.9884 | avg_test_loss = 0.0168 | avg_test_acc = 0.9957\n",
            "\u001b[1m[FULL ENSNET]\u001b[0m | ----------------------- | train_acc = 0.9941     | ---------------------- | test_acc = 0.9964    \n",
            "\u001b[1m*************************\n",
            "EPOCH 9\n",
            "*************************\u001b[0m\n",
            "\u001b[1m[UPDATE]\u001b[0m Training base CNN; parameters of subnetworks are frozen.\n",
            "\u001b[1m[UPDATE]\u001b[0m Training subnetworks; parameters of base CNN are frozen.\n",
            "\u001b[1m[CNN]\u001b[0m         | train_loss = 0.0488     | train_acc = 0.9856     | test_loss = 0.0208     | test_acc = 0.9945    \n",
            "\u001b[1m[SUBNETS]\u001b[0m     | avg_train_loss = 0.0371 | avg_train_acc = 0.9891 | avg_test_loss = 0.0251 | avg_test_acc = 0.9952\n",
            "\u001b[1m[FULL ENSNET]\u001b[0m | ----------------------- | train_acc = 0.9939     | ---------------------- | test_acc = 0.9956    \n",
            "\u001b[1m*************************\n",
            "EPOCH 10\n",
            "*************************\u001b[0m\n",
            "\u001b[1m[UPDATE]\u001b[0m Training base CNN; parameters of subnetworks are frozen.\n",
            "\u001b[1m[UPDATE]\u001b[0m Training subnetworks; parameters of base CNN are frozen.\n",
            "\u001b[1m[CNN]\u001b[0m         | train_loss = 0.0566     | train_acc = 0.9827     | test_loss = 0.0190     | test_acc = 0.9944    \n",
            "\u001b[1m[SUBNETS]\u001b[0m     | avg_train_loss = 0.0451 | avg_train_acc = 0.9872 | avg_test_loss = 0.0163 | avg_test_acc = 0.9955\n",
            "\u001b[1m[FULL ENSNET]\u001b[0m | ----------------------- | train_acc = 0.9933     | ---------------------- | test_acc = 0.9963    \n",
            "\u001b[1m*************************\n",
            "EPOCH 11\n",
            "*************************\u001b[0m\n",
            "\u001b[1m[UPDATE]\u001b[0m Training base CNN; parameters of subnetworks are frozen.\n",
            "\u001b[1m[UPDATE]\u001b[0m Training subnetworks; parameters of base CNN are frozen.\n",
            "\u001b[1m[CNN]\u001b[0m         | train_loss = 0.0510     | train_acc = 0.9851     | test_loss = 0.0211     | test_acc = 0.9940    \n",
            "\u001b[1m[SUBNETS]\u001b[0m     | avg_train_loss = 0.0487 | avg_train_acc = 0.9862 | avg_test_loss = 0.0199 | avg_test_acc = 0.9947\n",
            "\u001b[1m[FULL ENSNET]\u001b[0m | ----------------------- | train_acc = 0.9927     | ---------------------- | test_acc = 0.9954    \n",
            "\u001b[1m*************************\n",
            "EPOCH 12\n",
            "*************************\u001b[0m\n",
            "\u001b[1m[UPDATE]\u001b[0m Training base CNN; parameters of subnetworks are frozen.\n",
            "\u001b[1m[UPDATE]\u001b[0m Training subnetworks; parameters of base CNN are frozen.\n",
            "\u001b[1m[CNN]\u001b[0m         | train_loss = 0.0490     | train_acc = 0.9857     | test_loss = 0.0163     | test_acc = 0.9942    \n",
            "\u001b[1m[SUBNETS]\u001b[0m     | avg_train_loss = 0.0408 | avg_train_acc = 0.9882 | avg_test_loss = 0.0131 | avg_test_acc = 0.9959\n",
            "\u001b[1m[FULL ENSNET]\u001b[0m | ----------------------- | train_acc = 0.9941     | ---------------------- | test_acc = 0.9962    \n",
            "\u001b[1m*************************\n",
            "EPOCH 13\n",
            "*************************\u001b[0m\n",
            "\u001b[1m[UPDATE]\u001b[0m Training base CNN; parameters of subnetworks are frozen.\n",
            "\u001b[1m[UPDATE]\u001b[0m Training subnetworks; parameters of base CNN are frozen.\n",
            "\u001b[1m[CNN]\u001b[0m         | train_loss = 0.0448     | train_acc = 0.9869     | test_loss = 0.0156     | test_acc = 0.9955    \n",
            "\u001b[1m[SUBNETS]\u001b[0m     | avg_train_loss = 0.0365 | avg_train_acc = 0.9897 | avg_test_loss = 0.0145 | avg_test_acc = 0.9957\n",
            "\u001b[1m[FULL ENSNET]\u001b[0m | ----------------------- | train_acc = 0.9949     | ---------------------- | test_acc = 0.9965    \n",
            "\u001b[1m*************************\n",
            "EPOCH 14\n",
            "*************************\u001b[0m\n",
            "\u001b[1m[UPDATE]\u001b[0m Training base CNN; parameters of subnetworks are frozen.\n",
            "\u001b[1m[UPDATE]\u001b[0m Training subnetworks; parameters of base CNN are frozen.\n",
            "\u001b[1m[CNN]\u001b[0m         | train_loss = 0.0415     | train_acc = 0.9876     | test_loss = 0.0155     | test_acc = 0.9952    \n",
            "\u001b[1m[SUBNETS]\u001b[0m     | avg_train_loss = 0.0321 | avg_train_acc = 0.9908 | avg_test_loss = 0.0167 | avg_test_acc = 0.9945\n",
            "\u001b[1m[FULL ENSNET]\u001b[0m | ----------------------- | train_acc = 0.9943     | ---------------------- | test_acc = 0.9948    \n",
            "\u001b[1m*************************\n",
            "EPOCH 15\n",
            "*************************\u001b[0m\n",
            "\u001b[1m[UPDATE]\u001b[0m Training base CNN; parameters of subnetworks are frozen.\n",
            "\u001b[1m[UPDATE]\u001b[0m Training subnetworks; parameters of base CNN are frozen.\n",
            "\u001b[1m[CNN]\u001b[0m         | train_loss = 0.0415     | train_acc = 0.9872     | test_loss = 0.0189     | test_acc = 0.9943    \n",
            "\u001b[1m[SUBNETS]\u001b[0m     | avg_train_loss = 0.0343 | avg_train_acc = 0.9904 | avg_test_loss = 0.0149 | avg_test_acc = 0.9961\n",
            "\u001b[1m[FULL ENSNET]\u001b[0m | ----------------------- | train_acc = 0.9953     | ---------------------- | test_acc = 0.9964    \n",
            "\u001b[1m[UPDATE]\u001b[0m Training finished and results have been saved.\n"
          ]
        }
      ],
      "source": [
        "LEARNING_RATE = 0.001\n",
        "NUM_EPOCHS = 15\n",
        "PATIENCE = 10\n",
        "MIN_DELTA = 0.001\n",
        "SAVE_DIR = './saved_models'\n",
        "MOD_NAME = 'ensnet_model.pth'\n",
        "\n",
        "num_classes = len(train_dl.dataset.classes)\n",
        "model_kwargs = {\n",
        "    'base_cnn': model.EnsNetBaseCNN,\n",
        "    'subnet': model.EnsNetFCSN,\n",
        "    'num_subnets': 10,\n",
        "    'num_classes': num_classes\n",
        "}\n",
        "\n",
        "ensnet = model.EnsNet(**model_kwargs).to(utils.DEVICE)\n",
        "torch.compile(ensnet)\n",
        "\n",
        "loss_fn = nn.CrossEntropyLoss()\n",
        "cnn_optimizer = torch.optim.Adam(params = ensnet.base_cnn.parameters(), lr = LEARNING_RATE)\n",
        "subnets_optimizers = [torch.optim.Adam(params = subnet.parameters(), lr = LEARNING_RATE)\n",
        "                      for subnet in ensnet.subnets]\n",
        "\n",
        "# This will save model to ./saved_models\n",
        "# Results are also saved as .pkl files in ./saved_models\n",
        "cnn_res, subnets_res, ensemble_res = engine.train(ensnet = ensnet,\n",
        "                                                  train_dl = train_dl,\n",
        "                                                  test_dl = test_dl,\n",
        "                                                  loss_fn = loss_fn,\n",
        "                                                  cnn_optimizer = cnn_optimizer,\n",
        "                                                  subnets_optimizers = subnets_optimizers,\n",
        "                                                  num_epochs = NUM_EPOCHS,\n",
        "                                                  patience = PATIENCE,\n",
        "                                                  min_delta = MIN_DELTA,\n",
        "                                                  device = utils.DEVICE,\n",
        "                                                  save_dir = SAVE_DIR,\n",
        "                                                  mod_name = MOD_NAME,\n",
        "                                                  save_results = True)"
      ]
    },
    {
      "cell_type": "markdown",
      "metadata": {
        "id": "R7cVcoayIx7k"
      },
      "source": [
        "# Plotting Test Accuracy"
      ]
    },
    {
      "cell_type": "code",
      "execution_count": 7,
      "metadata": {
        "ExecuteTime": {
          "end_time": "2025-04-20T05:50:31.894093Z",
          "start_time": "2025-04-20T05:50:31.713211Z"
        },
        "colab": {
          "base_uri": "https://localhost:8080/",
          "height": 696
        },
        "id": "TJMwqQVHIx7k",
        "outputId": "45ffe66b-4cdb-4a19-a0d8-019668db8ae0"
      },
      "outputs": [
        {
          "output_type": "display_data",
          "data": {
            "text/plain": [
              "<Figure size 1000x800 with 1 Axes>"
            ],
            "image/png": "[encoded data removed]"
          },
          "metadata": {}
        }
      ],
      "source": [
        "# Get results from .pkl files\n",
        "base_name = os.path.splitext(MOD_NAME)[0]\n",
        "\n",
        "results = {}\n",
        "for key in ['cnn', 'subnets', 'ensemble']:\n",
        "    with open(f'{SAVE_DIR}/{base_name}_{key}_res.pkl', 'rb') as f:\n",
        "        results[key] = pickle.load(f)\n",
        "\n",
        "cnn_res = results['cnn']\n",
        "subnets_res = results['subnets']\n",
        "ensemble_res = results['ensemble']\n",
        "\n",
        "# Plotting test accuracy to observe effect of ensemble learning\n",
        "epochs = range(0, len(cnn_res['test_acc']))\n",
        "\n",
        "fig = plt.figure(figsize = (10, 8))\n",
        "\n",
        "plt.plot(epochs, cnn_res['test_acc'], label = 'Base CNN')\n",
        "plt.plot(epochs, ensemble_res['test_acc'], label = 'Full EnsNet')\n",
        "\n",
        "plt.legend(loc = 4)\n",
        "plt.ylabel('Test Accuracy')\n",
        "plt.xlabel('Epochs')\n",
        "plt.grid(color = 'gray', linewidth = 0.5, alpha = 0.5)\n",
        "plt.show()"
      ]
    },
    {
      "cell_type": "markdown",
      "metadata": {
        "id": "Y4Mn1p_VIx7k"
      },
      "source": [
        "# Making Predictions"
      ]
    },
    {
      "cell_type": "code",
      "execution_count": 8,
      "metadata": {
        "ExecuteTime": {
          "end_time": "2025-04-20T05:51:24.549276Z",
          "start_time": "2025-04-20T05:51:21.326254Z"
        },
        "colab": {
          "base_uri": "https://localhost:8080/",
          "height": 1000
        },
        "id": "GW4UdsrhIx7k",
        "outputId": "ebb188f6-9180-4613-cccf-a956fade97c0"
      },
      "outputs": [
        {
          "output_type": "display_data",
          "data": {
            "text/plain": [
              "<Figure size 1500x1500 with 9 Axes>"
            ],
            "image/png": "[encoded data removed]"
          },
          "metadata": {}
        }
      ],
      "source": [
        "# Get random samples\n",
        "test_data = list(test_dl.dataset)\n",
        "\n",
        "num_samples = 9\n",
        "rand_samples = random.sample(test_data, num_samples)\n",
        "\n",
        "# Load model\n",
        "saved_ensnet = model.EnsNet(**model_kwargs)\n",
        "\n",
        "loaded_state_dict = torch.load(f'{SAVE_DIR}/{MOD_NAME}', map_location = 'cpu') # Load on CPU\n",
        "saved_ensnet.load_state_dict(loaded_state_dict)\n",
        "saved_ensnet.eval() # Set to evaluation mode\n",
        "\n",
        "# Plot predictions\n",
        "num_cols =3\n",
        "num_rows = int(np.ceil(num_samples / num_cols))\n",
        "\n",
        "fig, axes = plt.subplots(num_rows, num_cols, figsize = (5 * num_cols, 5 * num_rows))\n",
        "\n",
        "flatten_axes = axes.flat\n",
        "\n",
        "for i, (X, y) in enumerate(rand_samples):\n",
        "    ax = flatten_axes[i]\n",
        "\n",
        "    with torch.inference_mode():\n",
        "        pred_label = saved_ensnet.predict(X.unsqueeze(0))\n",
        "\n",
        "    clr = 'tab:green' if pred_label == y else 'tab:red'\n",
        "\n",
        "    ax.imshow(X.permute(1, 2, 0).numpy(), cmap = 'grey')\n",
        "    ax.set_title(f'Prediction: {pred_label.item()}, Truth: {y}',\n",
        "                 fontsize = 20, color = clr)\n",
        "\n",
        "for ax in flatten_axes:\n",
        "    ax.axis(False)"
      ]
    },
    {
      "cell_type": "markdown",
      "metadata": {
        "id": "Y5L86K8MmJmA"
      },
      "source": [
        "# Individual Training Components"
      ]
    },
    {
      "cell_type": "code",
      "execution_count": 9,
      "metadata": {
        "colab": {
          "base_uri": "https://localhost:8080/"
        },
        "id": "lXVQ20MAklRz",
        "outputId": "90dd84d5-ec7f-4b85-ab13-8fef9f50ee37"
      },
      "outputs": [
        {
          "output_type": "stream",
          "name": "stdout",
          "text": [
            "CPU times: user 1min 29s, sys: 352 ms, total: 1min 30s\n",
            "Wall time: 1min 33s\n"
          ]
        }
      ],
      "source": [
        "%%time\n",
        "# CNN training step\n",
        "\n",
        "LEARNING_RATE = 0.001\n",
        "ensnet_test = model.EnsNet(**model_kwargs).to(utils.DEVICE)\n",
        "\n",
        "loss_fn = nn.CrossEntropyLoss()\n",
        "cnn_optimizer = torch.optim.Adam(params = ensnet_test.base_cnn.parameters(),\n",
        "                                 lr = LEARNING_RATE)\n",
        "\n",
        "cnn_loss, cnn_acc = engine.cnn_train_step(ensnet = ensnet_test,\n",
        "                                          dataloader = train_dl,\n",
        "                                          loss_fn = loss_fn,\n",
        "                                          optimizer = cnn_optimizer,\n",
        "                                          device = utils.DEVICE)"
      ]
    },
    {
      "cell_type": "code",
      "execution_count": 10,
      "metadata": {
        "colab": {
          "base_uri": "https://localhost:8080/"
        },
        "id": "9WoZ0beQkgPL",
        "outputId": "46d08723-4142-446a-a12b-eb252fb9b690"
      },
      "outputs": [
        {
          "output_type": "stream",
          "name": "stdout",
          "text": [
            "CPU times: user 49.4 s, sys: 9.67 s, total: 59 s\n",
            "Wall time: 1min 2s\n"
          ]
        }
      ],
      "source": [
        "%%time\n",
        "# subnets training step\n",
        "\n",
        "LEARNING_RATE = 0.001\n",
        "ensnet_test = model.EnsNet(**model_kwargs).to(utils.DEVICE)\n",
        "\n",
        "loss_fn = nn.CrossEntropyLoss()\n",
        "subnet_optimizers = [torch.optim.Adam(params = subnet.parameters(),\n",
        "                                      lr = LEARNING_RATE)\n",
        "                     for subnet in ensnet_test.subnets]\n",
        "\n",
        "subnets_loss, subnets_acc = engine.subnets_train_step(ensnet = ensnet_test,\n",
        "                                                      dataloader = train_dl,\n",
        "                                                      loss_fn = loss_fn,\n",
        "                                                      optimizers = subnet_optimizers,\n",
        "                                                      device = utils.DEVICE)"
      ]
    },
    {
      "cell_type": "code",
      "execution_count": 11,
      "metadata": {
        "colab": {
          "base_uri": "https://localhost:8080/"
        },
        "id": "GZkHQXklkdnb",
        "outputId": "7e021353-9d66-4d0e-cd34-418d98bcc173"
      },
      "outputs": [
        {
          "output_type": "stream",
          "name": "stdout",
          "text": [
            "CPU times: user 9.09 s, sys: 43.8 ms, total: 9.14 s\n",
            "Wall time: 9.15 s\n"
          ]
        }
      ],
      "source": [
        "%%time\n",
        "# EnsNet testing step\n",
        "\n",
        "ensnet_test = model.EnsNet(**model_kwargs).to(utils.DEVICE)\n",
        "\n",
        "loss_fn = nn.CrossEntropyLoss()\n",
        "\n",
        "test_res = engine.test_step(ensnet = ensnet_test,\n",
        "                            dataloader = test_dl,\n",
        "                            loss_fn = loss_fn,\n",
        "                            device = utils.DEVICE)"
      ]
    },
    {
      "cell_type": "code",
      "execution_count": 12,
      "metadata": {
        "colab": {
          "base_uri": "https://localhost:8080/"
        },
        "id": "D2ioa6OLkb3G",
        "outputId": "6e3435f7-4866-4800-f8aa-e16535a43f73"
      },
      "outputs": [
        {
          "output_type": "stream",
          "name": "stdout",
          "text": [
            "CPU times: user 56.5 s, sys: 300 ms, total: 56.8 s\n",
            "Wall time: 1min\n"
          ]
        }
      ],
      "source": [
        "%%time\n",
        "# EnsNet accuracy on training set\n",
        "\n",
        "ensnet_test = model.EnsNet(**model_kwargs).to(utils.DEVICE)\n",
        "\n",
        "train_acc = utils.get_ensemble_accuracy(ensnet = ensnet_test,\n",
        "                                        dataloader = train_dl,\n",
        "                                        device = utils.DEVICE)"
      ]
    },
    {
      "cell_type": "code",
      "execution_count": 13,
      "metadata": {
        "colab": {
          "base_uri": "https://localhost:8080/"
        },
        "id": "4ZO8ecWSkWUm",
        "outputId": "20752826-8f2f-4b96-d7be-8e079bcbdd5f"
      },
      "outputs": [
        {
          "output_type": "stream",
          "name": "stdout",
          "text": [
            "CPU times: user 9.7 s, sys: 55.6 ms, total: 9.75 s\n",
            "Wall time: 10.1 s\n"
          ]
        }
      ],
      "source": [
        "%%time\n",
        "# EnsNet accuracy on testing set\n",
        "\n",
        "ensnet_test = model.EnsNet(**model_kwargs).to(utils.DEVICE)\n",
        "\n",
        "test_acc = utils.get_ensemble_accuracy(ensnet = ensnet_test,\n",
        "                                       dataloader = test_dl,\n",
        "                                       device = utils.DEVICE)\n"
      ]
    }
  ],
  "metadata": {
    "accelerator": "GPU",
    "colab": {
      "gpuType": "T4",
      "provenance": []
    },
    "kernelspec": {
      "display_name": "Python 3 (ipykernel)",
      "language": "python",
      "name": "python3"
    },
    "language_info": {
      "codemirror_mode": {
        "name": "ipython",
        "version": 3
      },
      "file_extension": ".py",
      "mimetype": "text/x-python",
      "name": "python",
      "nbconvert_exporter": "python",
      "pygments_lexer": "ipython3",
      "version": "3.13.2"
    }
  },
  "nbformat": 4,
  "nbformat_minor": 0
}